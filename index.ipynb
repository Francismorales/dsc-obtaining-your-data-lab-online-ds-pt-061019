{
 "cells": [
  {
   "cell_type": "markdown",
   "metadata": {},
   "source": [
    "# Obtaining Your Data - Lab"
   ]
  },
  {
   "cell_type": "markdown",
   "metadata": {},
   "source": [
    "## Introduction\n",
    "In this lab you'll practice your munging and transforming skills in order to load in your data to solve a regression problem."
   ]
  },
  {
   "cell_type": "markdown",
   "metadata": {},
   "source": [
    "## Objectives\n",
    "You will be able to:\n",
    "* Understand the ETL process and the steps it consists of\n",
    "* Understand the challenges of working with data from multiple sources "
   ]
  },
  {
   "cell_type": "markdown",
   "metadata": {},
   "source": [
    "## Task Description\n",
    "\n",
    "You just got hired by Lego! Your first project is going to be to develop a pricing algorithm to help set a target price for new lego sets that are released to market. To do this, you're first going to need to start mining the company database in order to collect the information you need to develop a model.\n",
    "\n",
    "Start by investigating the database stored in lego.db and joining the tables into a unified dataset!\n",
    "\n",
    "> **Hint:** use this sql statement to preview the tables in an unknown database:\n",
    "```sql\n",
    "SELECT name FROM sqlite_master\n",
    "             WHERE type='table'\n",
    "             ORDER BY name;\n",
    "```"
   ]
  },
  {
   "cell_type": "code",
   "execution_count": 1,
   "metadata": {},
   "outputs": [],
   "source": [
    "# Your code here\n",
    "import sqlite3\n",
    "import pandas as pd\n",
    "\n",
    "con = sqlite3.connect('lego.db')\n",
    "cur = con.cursor()\n"
   ]
  },
  {
   "cell_type": "code",
   "execution_count": 5,
   "metadata": {},
   "outputs": [
    {
     "data": {
      "text/html": [
       "<div>\n",
       "<style scoped>\n",
       "    .dataframe tbody tr th:only-of-type {\n",
       "        vertical-align: middle;\n",
       "    }\n",
       "\n",
       "    .dataframe tbody tr th {\n",
       "        vertical-align: top;\n",
       "    }\n",
       "\n",
       "    .dataframe thead th {\n",
       "        text-align: right;\n",
       "    }\n",
       "</style>\n",
       "<table border=\"1\" class=\"dataframe\">\n",
       "  <thead>\n",
       "    <tr style=\"text-align: right;\">\n",
       "      <th></th>\n",
       "      <th>0</th>\n",
       "    </tr>\n",
       "  </thead>\n",
       "  <tbody>\n",
       "    <tr>\n",
       "      <th>0</th>\n",
       "      <td>product_details</td>\n",
       "    </tr>\n",
       "    <tr>\n",
       "      <th>1</th>\n",
       "      <td>product_info</td>\n",
       "    </tr>\n",
       "    <tr>\n",
       "      <th>2</th>\n",
       "      <td>product_pricing</td>\n",
       "    </tr>\n",
       "    <tr>\n",
       "      <th>3</th>\n",
       "      <td>product_reviews</td>\n",
       "    </tr>\n",
       "  </tbody>\n",
       "</table>\n",
       "</div>"
      ],
      "text/plain": [
       "                 0\n",
       "0  product_details\n",
       "1     product_info\n",
       "2  product_pricing\n",
       "3  product_reviews"
      ]
     },
     "execution_count": 5,
     "metadata": {},
     "output_type": "execute_result"
    }
   ],
   "source": [
    "cur.execute(\"\"\"SELECT name FROM sqlite_master\n",
    "             WHERE type='table'\n",
    "             ORDER BY name;\"\"\")\n",
    "df = pd.DataFrame(cur.fetchall())\n",
    "df.head(20)"
   ]
  },
  {
   "cell_type": "code",
   "execution_count": 9,
   "metadata": {
    "scrolled": true
   },
   "outputs": [
    {
     "name": "stdout",
     "output_type": "stream",
     "text": [
      "   prod_id prod_desc prod_long_desc theme_name\n",
      "0      630      blah       blahblah    Classic\n",
      "1     2304      blah       blahblah     DUPLO®\n",
      "   prod_id  ages  piece_count                      set_name\n",
      "0      630    4+            1               Brick Separator\n",
      "1     2304  1½-5            1  LEGO® DUPLO® Green Baseplate\n",
      "   prod_id country list_price\n",
      "0    75823      US      29.99\n",
      "1    75822      US      19.99\n",
      "   prod_id  num_reviews  play_star_rating review_difficulty  star_rating  \\\n",
      "0      630        180.0               4.0         Very Easy          4.8   \n",
      "1     2304         15.0               4.4              Easy          4.0   \n",
      "\n",
      "   val_star_rating  \n",
      "0              4.6  \n",
      "1              3.3  \n"
     ]
    }
   ],
   "source": [
    "dfProductdelails = pd.read_sql_query('''SELECT * FROM product_details;''', con)\n",
    "dfProductinfo = pd.read_sql_query('''SELECT * FROM product_info;''', con)\n",
    "dfProductpricing = pd.read_sql_query('''SELECT * FROM product_pricing;''', con)\n",
    "dfProductreviews = pd.read_sql_query('''SELECT * FROM product_reviews;''', con)\n",
    "print(dfProductdelails.head(2))\n",
    "print(dfProductinfo.head(2))\n",
    "print(dfProductpricing.head(2))\n",
    "print(dfProductreviews.head(2))"
   ]
  },
  {
   "cell_type": "code",
   "execution_count": 17,
   "metadata": {
    "collapsed": true
   },
   "outputs": [
    {
     "data": {
      "text/html": [
       "<div>\n",
       "<style scoped>\n",
       "    .dataframe tbody tr th:only-of-type {\n",
       "        vertical-align: middle;\n",
       "    }\n",
       "\n",
       "    .dataframe tbody tr th {\n",
       "        vertical-align: top;\n",
       "    }\n",
       "\n",
       "    .dataframe thead th {\n",
       "        text-align: right;\n",
       "    }\n",
       "</style>\n",
       "<table border=\"1\" class=\"dataframe\">\n",
       "  <thead>\n",
       "    <tr style=\"text-align: right;\">\n",
       "      <th></th>\n",
       "      <th>prod_id</th>\n",
       "      <th>prod_desc</th>\n",
       "      <th>prod_long_desc</th>\n",
       "      <th>theme_name</th>\n",
       "      <th>ages</th>\n",
       "      <th>piece_count</th>\n",
       "      <th>set_name</th>\n",
       "      <th>country</th>\n",
       "      <th>list_price</th>\n",
       "      <th>num_reviews</th>\n",
       "      <th>play_star_rating</th>\n",
       "      <th>review_difficulty</th>\n",
       "      <th>star_rating</th>\n",
       "      <th>val_star_rating</th>\n",
       "    </tr>\n",
       "  </thead>\n",
       "  <tbody>\n",
       "    <tr>\n",
       "      <th>0</th>\n",
       "      <td>630</td>\n",
       "      <td>blah</td>\n",
       "      <td>blahblah</td>\n",
       "      <td>Classic</td>\n",
       "      <td>4+</td>\n",
       "      <td>1</td>\n",
       "      <td>Brick Separator</td>\n",
       "      <td>US</td>\n",
       "      <td>2.49</td>\n",
       "      <td>180.0</td>\n",
       "      <td>4.0</td>\n",
       "      <td>Very Easy</td>\n",
       "      <td>4.8</td>\n",
       "      <td>4.6</td>\n",
       "    </tr>\n",
       "    <tr>\n",
       "      <th>1</th>\n",
       "      <td>630</td>\n",
       "      <td>blah</td>\n",
       "      <td>blahblah</td>\n",
       "      <td>Classic</td>\n",
       "      <td>4+</td>\n",
       "      <td>1</td>\n",
       "      <td>Brick Separator</td>\n",
       "      <td>AU</td>\n",
       "      <td>2.2724</td>\n",
       "      <td>180.0</td>\n",
       "      <td>4.0</td>\n",
       "      <td>Very Easy</td>\n",
       "      <td>4.8</td>\n",
       "      <td>4.6</td>\n",
       "    </tr>\n",
       "    <tr>\n",
       "      <th>2</th>\n",
       "      <td>630</td>\n",
       "      <td>blah</td>\n",
       "      <td>blahblah</td>\n",
       "      <td>Classic</td>\n",
       "      <td>4+</td>\n",
       "      <td>1</td>\n",
       "      <td>Brick Separator</td>\n",
       "      <td>AT</td>\n",
       "      <td>3.0378000000000003</td>\n",
       "      <td>180.0</td>\n",
       "      <td>4.0</td>\n",
       "      <td>Very Easy</td>\n",
       "      <td>4.8</td>\n",
       "      <td>4.6</td>\n",
       "    </tr>\n",
       "    <tr>\n",
       "      <th>3</th>\n",
       "      <td>630</td>\n",
       "      <td>blah</td>\n",
       "      <td>blahblah</td>\n",
       "      <td>Classic</td>\n",
       "      <td>4+</td>\n",
       "      <td>1</td>\n",
       "      <td>Brick Separator</td>\n",
       "      <td>BE</td>\n",
       "      <td>3.0378000000000003</td>\n",
       "      <td>180.0</td>\n",
       "      <td>4.0</td>\n",
       "      <td>Very Easy</td>\n",
       "      <td>4.8</td>\n",
       "      <td>4.6</td>\n",
       "    </tr>\n",
       "    <tr>\n",
       "      <th>4</th>\n",
       "      <td>630</td>\n",
       "      <td>blah</td>\n",
       "      <td>blahblah</td>\n",
       "      <td>Classic</td>\n",
       "      <td>4+</td>\n",
       "      <td>1</td>\n",
       "      <td>Brick Separator</td>\n",
       "      <td>CA</td>\n",
       "      <td>2.3322000000000003</td>\n",
       "      <td>180.0</td>\n",
       "      <td>4.0</td>\n",
       "      <td>Very Easy</td>\n",
       "      <td>4.8</td>\n",
       "      <td>4.6</td>\n",
       "    </tr>\n",
       "  </tbody>\n",
       "</table>\n",
       "</div>"
      ],
      "text/plain": [
       "   prod_id prod_desc prod_long_desc theme_name ages  piece_count  \\\n",
       "0      630      blah       blahblah    Classic   4+            1   \n",
       "1      630      blah       blahblah    Classic   4+            1   \n",
       "2      630      blah       blahblah    Classic   4+            1   \n",
       "3      630      blah       blahblah    Classic   4+            1   \n",
       "4      630      blah       blahblah    Classic   4+            1   \n",
       "\n",
       "          set_name country          list_price  num_reviews  play_star_rating  \\\n",
       "0  Brick Separator      US                2.49        180.0               4.0   \n",
       "1  Brick Separator      AU              2.2724        180.0               4.0   \n",
       "2  Brick Separator      AT  3.0378000000000003        180.0               4.0   \n",
       "3  Brick Separator      BE  3.0378000000000003        180.0               4.0   \n",
       "4  Brick Separator      CA  2.3322000000000003        180.0               4.0   \n",
       "\n",
       "  review_difficulty  star_rating  val_star_rating  \n",
       "0         Very Easy          4.8              4.6  \n",
       "1         Very Easy          4.8              4.6  \n",
       "2         Very Easy          4.8              4.6  \n",
       "3         Very Easy          4.8              4.6  \n",
       "4         Very Easy          4.8              4.6  "
      ]
     },
     "execution_count": 17,
     "metadata": {},
     "output_type": "execute_result"
    }
   ],
   "source": [
    "merged = pd.merge(dfProductdelails, dfProductinfo)\n",
    "merged2 = pd.merge(merged, dfProductpricing)\n",
    "merged3 = pd.merge(merged2, dfProductreviews)\n",
    "merged3.head()"
   ]
  },
  {
   "cell_type": "code",
   "execution_count": 18,
   "metadata": {},
   "outputs": [],
   "source": [
    "merged3.to_csv('Lego_data_merged.csv', index=False)"
   ]
  },
  {
   "cell_type": "markdown",
   "metadata": {
    "heading_collapsed": true
   },
   "source": [
    "## Summary\n",
    "Nice work! You're working more and more independently through the workflow and ensuring data integrity!"
   ]
  }
 ],
 "metadata": {
  "kernelspec": {
   "display_name": "Python 3",
   "language": "python",
   "name": "python3"
  },
  "language_info": {
   "codemirror_mode": {
    "name": "ipython",
    "version": 3
   },
   "file_extension": ".py",
   "mimetype": "text/x-python",
   "name": "python",
   "nbconvert_exporter": "python",
   "pygments_lexer": "ipython3",
   "version": "3.7.3"
  },
  "toc": {
   "base_numbering": 1,
   "nav_menu": {},
   "number_sections": true,
   "sideBar": true,
   "skip_h1_title": false,
   "title_cell": "Table of Contents",
   "title_sidebar": "Contents",
   "toc_cell": false,
   "toc_position": {},
   "toc_section_display": true,
   "toc_window_display": false
  }
 },
 "nbformat": 4,
 "nbformat_minor": 2
}
